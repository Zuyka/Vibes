{
 "cells": [
  {
   "cell_type": "code",
   "execution_count": 231,
   "metadata": {
    "collapsed": true
   },
   "outputs": [],
   "source": [
    "%matplotlib inline  \n",
    "from IPython.display import clear_output\n",
    "from math import isnan\n",
    "from ipywidgets import interact, interactive, fixed, interact_manual\n",
    "from IPython.display import display\n",
    "from ipywidgets import FloatSlider, BoundedFloatText, Dropdown, Button, BoundedIntText, IntSlider, Button, jslink\n",
    "import ipywidgets as widgets\n",
    "import numpy as np\n",
    "import matplotlib.pyplot as plt\n",
    "import matplotlib.patches as patches\n",
    "\n",
    "TYPE_WALL = 'стена'\n",
    "TYPE_PIPE = 'труба'\n",
    "TYPE_WINDOW = 'окно'\n",
    "\n",
    "\n",
    "surface_type_input = Dropdown(\n",
    "    options=[TYPE_WALL, TYPE_PIPE, TYPE_WINDOW],\n",
    "    value=TYPE_WALL,\n",
    "    description='Тип поверхности'\n",
    ")\n",
    "\n",
    "TYPE_SONATA = 'Соната-АВ'\n",
    "TYPE_VNG = 'VNG-012GL'\n",
    "\n",
    "defence_type_input = Dropdown(\n",
    "    options=[TYPE_SONATA, TYPE_VNG],\n",
    "    value=TYPE_SONATA,\n",
    "    description='Виброакустич. защита'\n",
    ")\n",
    "\n",
    "LEVEL_MEDIUM = 'средний'\n",
    "LEVEL_LOUD = 'громкий'\n",
    "LEVEL_VERY_LOUD = 'очень громкий'\n",
    "\n",
    "signal_level_input = Dropdown(\n",
    "    options=[LEVEL_MEDIUM, LEVEL_LOUD, LEVEL_VERY_LOUD],\n",
    "    value=LEVEL_MEDIUM,\n",
    "    description='Уровень скрываемого сигнала'\n",
    ")\n",
    "\n",
    "\n",
    "PROFILE_MIN = 'минимальный'\n",
    "PROFILE_MED = 'средний'\n",
    "PROFILE_MAX = 'максимальный'\n",
    "\n",
    "profile_input = Dropdown(\n",
    "    options=[PROFILE_MIN, PROFILE_MED, PROFILE_MAX],\n",
    "    value=PROFILE_MED,\n",
    "    description='Профиль защиты'\n",
    ")\n",
    "\n",
    "\n",
    "clarity_input_text = BoundedFloatText(\n",
    "    description='Слов. разб. речи',\n",
    "    value=0.38,\n",
    "    min=0.0,\n",
    "    max=1.0,\n",
    ")\n",
    "clarity_input = FloatSlider(\n",
    "    min=0.0,\n",
    "    max=1.0,\n",
    "    step=0.001,\n",
    "    value=0.38\n",
    ")\n",
    "\n",
    "link = jslink((clarity_input_text, 'value'), (clarity_input, 'value'))\n",
    "\n",
    "\n",
    "width_input_text = BoundedIntText(\n",
    "    description='Ширина (в клетках)',\n",
    "    min=1,\n",
    "    max=100,\n",
    "    value=1\n",
    ")\n",
    "width_input = IntSlider(\n",
    "    min=1,\n",
    "    max=100,\n",
    "    value=1\n",
    ")\n",
    "link = jslink((width_input_text, 'value'), (width_input, 'value'))\n",
    "\n",
    "\n",
    "\n",
    "height_input_text = BoundedIntText(\n",
    "    description='Высота (в клетках)',\n",
    "    min=1,\n",
    "    max=100,\n",
    "    value=2\n",
    ")\n",
    "height_input = IntSlider(\n",
    "    min=1,\n",
    "    max=100,\n",
    "    value=2\n",
    ")\n",
    "link = jslink((height_input_text, 'value'), (height_input, 'value'))\n",
    "\n",
    "\n",
    "run_btn = Button(description='Запуск')\n",
    "\n",
    "        "
   ]
  },
  {
   "cell_type": "code",
   "execution_count": 232,
   "metadata": {
    "collapsed": true
   },
   "outputs": [],
   "source": [
    "vibes = [\n",
    "    (1, 2)\n",
    "]"
   ]
  },
  {
   "cell_type": "code",
   "execution_count": 233,
   "metadata": {
    "collapsed": true
   },
   "outputs": [],
   "source": [
    "def color(value, clarity):\n",
    "    if value <= clarity:\n",
    "        return 'green'\n",
    "    elif value + 0.1 <= clarity:\n",
    "        return 'yellow'\n",
    "    else:\n",
    "        return 'red'\n",
    "\n",
    "\n",
    "\n",
    "def render(width, height, vibes, tiles, tile_size=0.1, clarity=0.4): \n",
    "    fig1 = plt.figure(num=None, figsize=(8, 6), dpi=80, facecolor='w', edgecolor='k')\n",
    "    ax1 = fig1.add_subplot(111, aspect='equal')\n",
    "    for p in [\n",
    "\n",
    "                \n",
    "            patches.Rectangle(\n",
    "                    np.multiply(tiles[i][\"position\"], tile_size) - tile_size,\n",
    "                    tile_size,\n",
    "                    tile_size,\n",
    "                    facecolor=color(tiles[i]['value'], clarity)\n",
    "                    ) for i in range(len(tiles))\n",
    "    ]:\n",
    "        ax1.add_patch(p)\n",
    "        for vibe in vibes:\n",
    "            circle = plt.Circle(\n",
    "                (vibe[0] * tile_size - tile_size / 2, vibe[1] * tile_size - tile_size / 2), \n",
    "                tile_size / 3, \n",
    "                color='Blue'\n",
    "            )\n",
    "            ax1.add_artist(circle)\n",
    "    plt.axis([0, np.ceil(tile_size * width), 0, np.ceil(tile_size * height)])\n",
    "            \n"
   ]
  },
  {
   "cell_type": "code",
   "execution_count": 234,
   "metadata": {},
   "outputs": [],
   "source": [
    "# Переводим все значения из таблиц А.1-А.8\n",
    "# исх. данные\n",
    "# уровень тест сигнала средний\n",
    "# уровень излучения виброизлучателя максимальный\n",
    "#датчик-соната АВ тяжелый\n",
    "# ограждающая конструкция стена\n",
    "\n",
    "\n",
    "\n",
    "#Значение  формантного параметра речи в полосе DAi, дБ\n",
    "def DA(i):\n",
    "    return [25, 18, 14, 9, 6, 5, 4][i - 1]\n",
    "\n",
    "def k(i):\n",
    "    return [0.01, 0.03, 0.12, 0.2, 0.3, 0.26, 0.07][i - 1]\n",
    "\n",
    "#Уровень виброускорения от тестового речевого сигнала (Средняя речь) Vсi, дБ\n",
    "def Vc(i):\n",
    "    return [57.5, 57, 57, 52, 42.5, 51.5, 41][i - 1]\n",
    "\n",
    "#Уровень шума от системы защиты V*, дБ\n",
    "#(уровень максимальный)\n",
    "def Vstar(i):\n",
    "    return [55.6, 71.2, 78.4, 80.1, 78.9, 82.6, 70.9][i - 1]\n",
    "\n",
    "def Ln(i):\n",
    "    return 10 ** (Vstar(i) / 20) * (10 ** (-6))\n",
    " \n",
    "def Lsh1(x):\n",
    "    val = (0.0004-6*10**(-5)*np.log(x))\n",
    "    return 1659.587*Ln(1)*val\n",
    "def Lsh2(x):    \n",
    "    val = (0.0027-3*10**(-4)*np.log(x))\n",
    "    return 275.4229*Ln(2)*val\n",
    "def Lsh3(x):\n",
    "    val = (0.0054-0.001*np.log(x))\n",
    "    return 120.2264*Ln(3)*val\n",
    "def Lsh4(x):     \n",
    "    val = (0.0074-1*10**(-3)*np.log(x))\n",
    "    return 98.8553*Ln(4)*val\n",
    "def Lsh5(x):    \n",
    "    val = (0.0057-0.001*np.log(x))\n",
    "    return 113.5011*Ln(5)*val\n",
    "def Lsh6(x):    \n",
    "    val = (0.0082-0.002*np.log(x))\n",
    "    return 74.1310*Ln(6)*val\n",
    "def Lsh7(x):    \n",
    "    val = (0.0019 - 6 * (10**(-4)) * np.log(x))\n",
    "    return 285.1018*Ln(7)*val\n",
    "    \n",
    "def Lsh(i, x):\n",
    "    return [Lsh1, Lsh2, Lsh3, Lsh4, Lsh5, Lsh6, Lsh7][i - 1](x)\n",
    "\n",
    "def Vsh(i, x): # CORRECT\n",
    "    #print(\"Vsh={}, i={}, x={}\".format(20 * np.log10(Lsh(i, x)) + 120, i, x))\n",
    "    return 20 * np.log10(Lsh(i, x)) + 120\n",
    "\n",
    "def q(i, x):\n",
    "    return Vc(i) - Vsh(i, x)\n",
    "\n",
    "def Qi(i, x):\n",
    "    #print(\"Qi, i={}, x={}, Qi={}\".format(i, x, q(i,x) - DA(i)))\n",
    "    return q(i, x) - DA(i)\n",
    "\n",
    "def p(i, x): # ALL CORRECT UNTIL THIS POINT. Motherfucker was here\n",
    "    Q = Qi(i, x)\n",
    "    \n",
    "    val = (\n",
    "        0.78 + \n",
    "        5.46 * \n",
    "        np.exp(-4.3 * (10 ** -3) * ((27.3 - np.abs(Q)) ** 2))\n",
    "    ) / (\n",
    "        1 + (10 ** (0.1 * np.abs(Q)))\n",
    "    )\n",
    "    \n",
    "    \n",
    "    if Q <= 0:\n",
    "        #print(\"p: i={}, x={}, val={}, Q={}\".format(i, x, val, Q))\n",
    "        return val\n",
    "    else:\n",
    "        #print(\"p: i={}, x={}, val={}, Q={}\".format(i, x, 1 - val, Q))\n",
    "        return 1 - val\n",
    "    \n",
    "def Ri(i, x):\n",
    "    return p(i, x) * k(i)\n",
    "\n",
    "def W(x):\n",
    "    R = np.sum(Ri(i + 1, x) for i in range(7))\n",
    "    if isnan(R):\n",
    "        print('NAN: {}'.format(x))\n",
    "    if R < 0.15: \n",
    "        return 1.54 * (R ** (0.25)) * (1 - np.exp(-11 * R))\n",
    "    else: \n",
    "        return 1 - np.exp(-(11 * R) / (1 + 0.7 * R))\n"
   ]
  },
  {
   "cell_type": "code",
   "execution_count": 235,
   "metadata": {
    "collapsed": true
   },
   "outputs": [],
   "source": [
    "def f(x, y, vibe, tile_size):\n",
    "    vx, vy = vibe\n",
    "    distance = np.sqrt(np.sum(np.square([(x - vx) * tile_size, (y - vy) * tile_size])))\n",
    "    if distance > 0:\n",
    "        return W(distance)\n",
    "    else:\n",
    "        return 0.0\n",
    "\n",
    "def generate_tile(x, y, vibes, surface_type, defence_type, signal_level, profile, clarity, tile_size):\n",
    "    values = np.array([f(x, y, v, tile_size) for v in vibes])\n",
    "    real_value = np.sqrt(np.sum(np.power(values, 2.0)))\n",
    "\n",
    "    \n",
    "    return { \"position\": (x, y), \"value\": real_value }"
   ]
  },
  {
   "cell_type": "code",
   "execution_count": 236,
   "metadata": {
    "collapsed": true
   },
   "outputs": [],
   "source": [
    "def calculate_everything(b):\n",
    "    clear_output()\n",
    "    surface_type = surface_type_input.value\n",
    "    defence_type = defence_type_input.value\n",
    "    signal_level = signal_level_input.value\n",
    "    profile = profile_input.value\n",
    "    clarity = clarity_input.value\n",
    "    width = width_input.value\n",
    "    height = height_input.value\n",
    "    \n",
    "    if surface_type == TYPE_WALL:\n",
    "        tile_size = 1.0\n",
    "    else:\n",
    "        tile_size = 0.1\n",
    "    \n",
    "    tiles = [\n",
    "        generate_tile(\n",
    "            x + 1, \n",
    "            y + 1, \n",
    "            vibes=vibes,\n",
    "            surface_type=surface_type,\n",
    "            defence_type=defence_type,\n",
    "            signal_level=signal_level,\n",
    "            profile=profile,\n",
    "            clarity=clarity,\n",
    "            tile_size=tile_size\n",
    "        ) \n",
    "        for x in range(width) for y in range(height)\n",
    "    ]\n",
    "    \n",
    "    print(tiles)\n",
    "    \n",
    "    render(width, height, vibes, tiles, tile_size=tile_size, clarity=clarity)\n",
    "\n",
    "\n",
    "run_btn.on_click(calculate_everything)"
   ]
  },
  {
   "cell_type": "code",
   "execution_count": 237,
   "metadata": {},
   "outputs": [
    {
     "data": {
      "application/vnd.jupyter.widget-view+json": {
       "model_id": "e3f9954b777d4b958afd3084d7f5a1a2"
      }
     },
     "metadata": {},
     "output_type": "display_data"
    },
    {
     "data": {
      "application/vnd.jupyter.widget-view+json": {
       "model_id": "b9e2a885b8754facb0b7bf234554fa62"
      }
     },
     "metadata": {},
     "output_type": "display_data"
    },
    {
     "data": {
      "application/vnd.jupyter.widget-view+json": {
       "model_id": "a6613c2f8a934c34af60fbcca798b77b"
      }
     },
     "metadata": {},
     "output_type": "display_data"
    },
    {
     "data": {
      "application/vnd.jupyter.widget-view+json": {
       "model_id": "64db37c5a2224ca3abebf3a5beb78c44"
      }
     },
     "metadata": {},
     "output_type": "display_data"
    },
    {
     "data": {
      "application/vnd.jupyter.widget-view+json": {
       "model_id": "c1a6f70771b44b20a24515e422375723"
      }
     },
     "metadata": {},
     "output_type": "display_data"
    },
    {
     "data": {
      "application/vnd.jupyter.widget-view+json": {
       "model_id": "8d910adc44794c43a0584535fc31002a"
      }
     },
     "metadata": {},
     "output_type": "display_data"
    },
    {
     "data": {
      "application/vnd.jupyter.widget-view+json": {
       "model_id": "1a01490bb9f1469a8ef7e2cde1cfc076"
      }
     },
     "metadata": {},
     "output_type": "display_data"
    },
    {
     "data": {
      "application/vnd.jupyter.widget-view+json": {
       "model_id": "5e7871bfb84640578f2154ad5e44152f"
      }
     },
     "metadata": {},
     "output_type": "display_data"
    },
    {
     "data": {
      "application/vnd.jupyter.widget-view+json": {
       "model_id": "0b5742c3054c476395374e213ce5cdc1"
      }
     },
     "metadata": {},
     "output_type": "display_data"
    },
    {
     "data": {
      "application/vnd.jupyter.widget-view+json": {
       "model_id": "7f75e0c3a5aa463a95a297574cd79379"
      }
     },
     "metadata": {},
     "output_type": "display_data"
    },
    {
     "data": {
      "application/vnd.jupyter.widget-view+json": {
       "model_id": "6f6b0822a83c4019ae37dee8e483f08c"
      }
     },
     "metadata": {},
     "output_type": "display_data"
    }
   ],
   "source": [
    "\n",
    "\n",
    "                                    \n",
    "                                              \n",
    "display(\n",
    "    surface_type_input, \n",
    "    defence_type_input, \n",
    "    signal_level_input,\n",
    "    profile_input,\n",
    "    clarity_input_text,\n",
    "    clarity_input,\n",
    "    width_input_text, \n",
    "    width_input, \n",
    "    height_input_text, \n",
    "    height_input, \n",
    "    run_btn\n",
    ")\n"
   ]
  },
  {
   "cell_type": "code",
   "execution_count": null,
   "metadata": {
    "collapsed": true
   },
   "outputs": [],
   "source": []
  }
 ],
 "metadata": {
  "kernelspec": {
   "display_name": "Python 3",
   "language": "python",
   "name": "python3"
  },
  "language_info": {
   "codemirror_mode": {
    "name": "ipython",
    "version": 3
   },
   "file_extension": ".py",
   "mimetype": "text/x-python",
   "name": "python",
   "nbconvert_exporter": "python",
   "pygments_lexer": "ipython3",
   "version": "3.6.1"
  }
 },
 "nbformat": 4,
 "nbformat_minor": 2
}
