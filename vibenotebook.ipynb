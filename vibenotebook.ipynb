{
 "cells": [
  {
   "cell_type": "code",
   "execution_count": 227,
   "metadata": {},
   "outputs": [],
   "source": [
    "%matplotlib inline  \n",
    "from __future__ import print_function\n",
    "from ipywidgets import interact, interactive, fixed, interact_manual\n",
    "from IPython.display import display\n",
    "from ipywidgets import FloatSlider, BoundedFloatText, Dropdown, Button, BoundedIntText, IntSlider, Button, jslink\n",
    "import ipywidgets as widgets\n",
    "import numpy as np\n",
    "import matplotlib.pyplot as plt\n",
    "import matplotlib.patches as patches\n",
    "\n",
    "TYPE_WALL = 'стена'\n",
    "TYPE_PIPE = 'труба'\n",
    "TYPE_WINDOW = 'окно'\n",
    "\n",
    "\n",
    "surface_type_input = Dropdown(\n",
    "    options=[TYPE_WALL, TYPE_PIPE, TYPE_WINDOW],\n",
    "    value=TYPE_WALL,\n",
    "    description='Тип поверхности'\n",
    ")\n",
    "\n",
    "TYPE_SONATA = 'Соната-АВ'\n",
    "TYPE_VNG = 'VNG-012GL'\n",
    "\n",
    "defence_type_input = Dropdown(\n",
    "    options=[TYPE_SONATA, TYPE_VNG],\n",
    "    value=TYPE_SONATA,\n",
    "    description='Виброакустич. защита'\n",
    ")\n",
    "\n",
    "LEVEL_MEDIUM = 'средний'\n",
    "LEVEL_LOUD = 'громкий'\n",
    "LEVEL_VERY_LOUD = 'очень громкий'\n",
    "\n",
    "signal_level_input = Dropdown(\n",
    "    options=[LEVEL_MEDIUM, LEVEL_LOUD, LEVEL_VERY_LOUD],\n",
    "    value=LEVEL_MEDIUM,\n",
    "    description='Уровень скрываемого сигнала'\n",
    ")\n",
    "\n",
    "\n",
    "PROFILE_MIN = 'минимальный'\n",
    "PROFILE_MED = 'средний'\n",
    "PROFILE_MAX = 'максимальный'\n",
    "\n",
    "profile_input = Dropdown(\n",
    "    options=[PROFILE_MIN, PROFILE_MED, PROFILE_MAX],\n",
    "    value=PROFILE_MED,\n",
    "    description='Профиль защиты'\n",
    ")\n",
    "\n",
    "\n",
    "clarity_input_text = BoundedFloatText(\n",
    "    description='Слов. разб. речи',\n",
    "    value=0.38,\n",
    "    min=0.0,\n",
    "    max=1.0,\n",
    ")\n",
    "clarity_input = FloatSlider(\n",
    "    min=0.0,\n",
    "    max=1.0,\n",
    "    step=0.001,\n",
    "    value=0.38\n",
    ")\n",
    "\n",
    "link = jslink((clarity_input_text, 'value'), (clarity_input, 'value'))\n",
    "\n",
    "\n",
    "width_input_text = BoundedIntText(\n",
    "    description='Ширина (в клетках)',\n",
    "    min=1,\n",
    "    max=100,\n",
    "    value=5\n",
    ")\n",
    "width_input = IntSlider(\n",
    "    min=1,\n",
    "    max=100,\n",
    "    value=5\n",
    ")\n",
    "link = jslink((width_input_text, 'value'), (width_input, 'value'))\n",
    "\n",
    "\n",
    "\n",
    "height_input_text = BoundedIntText(\n",
    "    description='Высота (в клетках)',\n",
    "    min=1,\n",
    "    max=100,\n",
    "    value=5\n",
    ")\n",
    "height_input = IntSlider(\n",
    "    min=1,\n",
    "    max=100,\n",
    "    value=5\n",
    ")\n",
    "link = jslink((height_input_text, 'value'), (height_input, 'value'))\n",
    "\n",
    "\n",
    "run_btn = Button(description='Запуск')\n",
    "\n",
    "        "
   ]
  },
  {
   "cell_type": "code",
   "execution_count": 228,
   "metadata": {
    "collapsed": true
   },
   "outputs": [],
   "source": [
    "vibes = [\n",
    "    (1, 1),\n",
    "    (2, 2)\n",
    "]"
   ]
  },
  {
   "cell_type": "code",
   "execution_count": 229,
   "metadata": {},
   "outputs": [],
   "source": [
    "def render(width, height, vibes, tiles, tile_size=0.1): \n",
    "    fig1 = plt.figure(num=None, figsize=(8, 6), dpi=80, facecolor='w', edgecolor='k')\n",
    "    ax1 = fig1.add_subplot(111, aspect='equal')\n",
    "    for p in [\n",
    "\n",
    "                \n",
    "            patches.Rectangle(\n",
    "                    np.multiply(tiles[i][\"position\"], tile_size),\n",
    "                    tile_size,\n",
    "                    tile_size,\n",
    "                    facecolor=\"green\" if tiles[i][\"value\"] <= 0.4 else \"yellow\" if tiles[i][\"value\"] > 0.4 and tiles[i][\"value\"] <= 0.6 else \"red\"\n",
    "                    ) for i in range(len(tiles))\n",
    "    ]:\n",
    "        ax1.add_patch(p)\n",
    "        for vibe in vibes:\n",
    "            circle = plt.Circle(\n",
    "                (vibe[0] * tile_size + tile_size / 2, vibe[1] * tile_size + tile_size / 2), \n",
    "                tile_size / 3, \n",
    "                color='Blue'\n",
    "            )\n",
    "            ax1.add_artist(circle)\n",
    "    plt.axis([0, np.ceil(tile_size * width), 0, np.ceil(tile_size * height)])\n",
    "            \n"
   ]
  },
  {
   "cell_type": "code",
   "execution_count": 230,
   "metadata": {},
   "outputs": [
    {
     "data": {
      "text/plain": [
       "{'position': (2, 2), 'value': 0.44721359549995798}"
      ]
     },
     "execution_count": 230,
     "metadata": {},
     "output_type": "execute_result"
    }
   ],
   "source": [
    "def f(vibe):\n",
    "    return 0.1 * (vibe[0] + vibe[1])\n",
    "\n",
    "def generate_tile(x, y, vibes):\n",
    "    values = np.array([f(a) for a in vibes])\n",
    "    real_value = np.sqrt(np.sum(np.power(values, 2.0)))\n",
    "    \n",
    "    return { \"position\": (x, y), \"value\": real_value }\n",
    "\n",
    "generate_tile(2, 2, vibes)"
   ]
  },
  {
   "cell_type": "code",
   "execution_count": 231,
   "metadata": {},
   "outputs": [],
   "source": [
    "def calculate_everything(b):\n",
    "    surface_type = type_input.value\n",
    "    defence_type = defence_type_input.value\n",
    "    signal_level = signal_level_input.value\n",
    "    profile = profile_input.value\n",
    "    clarity = clarity_input.value\n",
    "    width = width_input.value\n",
    "    height = height_input.value\n",
    "    \n",
    "    tiles = [generate_tile(x + 1, y + 1, vibes) for x in range(width) for y in range(height)]\n",
    "    \n",
    "    render(width, height, vibes, tiles)\n",
    "\n",
    "\n",
    "run_btn.on_click(calculate_everything)"
   ]
  },
  {
   "cell_type": "code",
   "execution_count": 232,
   "metadata": {},
   "outputs": [
    {
     "data": {
      "application/vnd.jupyter.widget-view+json": {
       "model_id": "289b3d1403ae40b7b8253fb9f2f07126"
      }
     },
     "metadata": {},
     "output_type": "display_data"
    },
    {
     "data": {
      "application/vnd.jupyter.widget-view+json": {
       "model_id": "2709c0f2c2374509b1fafb0066996591"
      }
     },
     "metadata": {},
     "output_type": "display_data"
    },
    {
     "data": {
      "application/vnd.jupyter.widget-view+json": {
       "model_id": "645d8a000d8c4732afe111f54fc0617c"
      }
     },
     "metadata": {},
     "output_type": "display_data"
    },
    {
     "data": {
      "application/vnd.jupyter.widget-view+json": {
       "model_id": "1c31d214f55f4edb8d6568f0050ccf0d"
      }
     },
     "metadata": {},
     "output_type": "display_data"
    },
    {
     "data": {
      "application/vnd.jupyter.widget-view+json": {
       "model_id": "6ae579b57a404aea86e3b48979b49465"
      }
     },
     "metadata": {},
     "output_type": "display_data"
    },
    {
     "data": {
      "application/vnd.jupyter.widget-view+json": {
       "model_id": "634d5f8289e64b479a3bea10c8aa8c6c"
      }
     },
     "metadata": {},
     "output_type": "display_data"
    },
    {
     "data": {
      "application/vnd.jupyter.widget-view+json": {
       "model_id": "0d79158c9fcb40c294de04621fe77468"
      }
     },
     "metadata": {},
     "output_type": "display_data"
    },
    {
     "data": {
      "application/vnd.jupyter.widget-view+json": {
       "model_id": "0b1d30bfcfc64fdeb8147cea8ceed465"
      }
     },
     "metadata": {},
     "output_type": "display_data"
    },
    {
     "data": {
      "application/vnd.jupyter.widget-view+json": {
       "model_id": "2d53f9ef019c4a48ba9bf43bd374319e"
      }
     },
     "metadata": {},
     "output_type": "display_data"
    },
    {
     "data": {
      "application/vnd.jupyter.widget-view+json": {
       "model_id": "3a5b933c69434800aba27090e8dd954a"
      }
     },
     "metadata": {},
     "output_type": "display_data"
    },
    {
     "data": {
      "application/vnd.jupyter.widget-view+json": {
       "model_id": "ce82e3b3f065426887d363836165fa59"
      }
     },
     "metadata": {},
     "output_type": "display_data"
    },
    {
     "data": {
      "image/png": "[encoded data removed]",
      "text/plain": [
       "<matplotlib.figure.Figure at 0x7f763d9c59b0>"
      ]
     },
     "metadata": {},
     "output_type": "display_data"
    }
   ],
   "source": [
    "\n",
    "\n",
    "                                    \n",
    "                                              \n",
    "display(\n",
    "    type_input, \n",
    "    defence_type_input, \n",
    "    signal_level_input,\n",
    "    profile_input,\n",
    "    clarity_input_text,\n",
    "    clarity_input,\n",
    "    width_input_text, \n",
    "    width_input, \n",
    "    height_input_text, \n",
    "    height_input, \n",
    "    run_btn\n",
    ")\n"
   ]
  },
  {
   "cell_type": "code",
   "execution_count": null,
   "metadata": {},
   "outputs": [],
   "source": []
  }
 ],
 "metadata": {
  "kernelspec": {
   "display_name": "Python 3",
   "language": "python",
   "name": "python3"
  },
  "language_info": {
   "codemirror_mode": {
    "name": "ipython",
    "version": 3
   },
   "file_extension": ".py",
   "mimetype": "text/x-python",
   "name": "python",
   "nbconvert_exporter": "python",
   "pygments_lexer": "ipython3",
   "version": "3.6.1"
  }
 },
 "nbformat": 4,
 "nbformat_minor": 2
}
